{
 "metadata": {
  "language_info": {
   "codemirror_mode": {
    "name": "ipython",
    "version": 3
   },
   "file_extension": ".py",
   "mimetype": "text/x-python",
   "name": "python",
   "nbconvert_exporter": "python",
   "pygments_lexer": "ipython3",
   "version": "3.8.7"
  },
  "orig_nbformat": 2,
  "kernelspec": {
   "name": "python387jvsc74a57bd0dd810980ff46fd25be698713c1a9098cedc8381bfbdff56984ee6654e1ca9526",
   "display_name": "Python 3.8.7 64-bit"
  }
 },
 "nbformat": 4,
 "nbformat_minor": 2,
 "cells": [
  {
   "cell_type": "code",
   "execution_count": 1,
   "metadata": {},
   "outputs": [],
   "source": [
    "import tensorflow as tf"
   ]
  },
  {
   "cell_type": "code",
   "execution_count": 2,
   "metadata": {},
   "outputs": [],
   "source": [
    "batch_size = 2\n",
    "That = 3\n",
    "N = 2"
   ]
  },
  {
   "cell_type": "code",
   "execution_count": 3,
   "metadata": {},
   "outputs": [
    {
     "output_type": "stream",
     "name": "stdout",
     "text": [
      "tf.Tensor(\n[[[0.7375338  0.22997093]\n  [0.5130764  0.20664358]\n  [0.9655051  0.49819064]]\n\n [[0.85198474 0.91651165]\n  [0.6761215  0.689976  ]\n  [0.7915044  0.7800131 ]]], shape=(2, 3, 2), dtype=float32)\n"
     ]
    }
   ],
   "source": [
    "data = tf.random.uniform(shape=[batch_size, That, N])\n",
    "print(data)"
   ]
  },
  {
   "cell_type": "code",
   "execution_count": 6,
   "metadata": {},
   "outputs": [
    {
     "output_type": "stream",
     "name": "stdout",
     "text": [
      "mean: tf.Tensor(0.6547527, shape=(), dtype=float32)\nvariance: tf.Tensor(0.056062642, shape=(), dtype=float32)\n"
     ]
    }
   ],
   "source": [
    "# previous mean & variance\n",
    "\n",
    "old_mean = tf.math.reduce_mean(data)\n",
    "old_var = tf.math.reduce_variance(data)\n",
    "\n",
    "print('mean:', old_mean) # mean of every entries \n",
    "print('variance:', old_var) # variance of every entries"
   ]
  },
  {
   "cell_type": "code",
   "execution_count": 8,
   "metadata": {},
   "outputs": [
    {
     "output_type": "stream",
     "name": "stdout",
     "text": [
      "data: tf.Tensor(\n[[[0.7375338  0.22997093]\n  [0.5130764  0.20664358]\n  [0.9655051  0.49819064]]\n\n [[0.85198474 0.91651165]\n  [0.6761215  0.689976  ]\n  [0.7915044  0.7800131 ]]], shape=(2, 3, 2), dtype=float32)\nmean: tf.Tensor(0.6547527, shape=(), dtype=float32)\ndata-mean: tf.Tensor(\n[[[ 0.08278114 -0.42478174]\n  [-0.14167625 -0.4481091 ]\n  [ 0.31075245 -0.15656203]]\n\n [[ 0.19723207  0.26175898]\n  [ 0.0213688   0.03522331]\n  [ 0.13675171  0.12526041]]], shape=(2, 3, 2), dtype=float32)\n"
     ]
    }
   ],
   "source": [
    "print('data:', data)\n",
    "print('mean:', old_mean)\n",
    "print('data-mean:', data-old_mean) # not `batch-wise` calculation"
   ]
  },
  {
   "cell_type": "code",
   "execution_count": 7,
   "metadata": {},
   "outputs": [
    {
     "output_type": "stream",
     "name": "stdout",
     "text": [
      "mean: tf.Tensor(\n[[[0.52515346]]\n\n [[0.7843518 ]]], shape=(2, 1, 1), dtype=float32)\nvariance: tf.Tensor(\n[[[0.07141152]]\n\n [[0.00712184]]], shape=(2, 1, 1), dtype=float32)\n"
     ]
    }
   ],
   "source": [
    "# proposed mean & variance\n",
    "\n",
    "# use `axis` and `keepdims` options for `batch-wise` mean and var\n",
    "new_mean = tf.math.reduce_mean(data, axis=[1, 2], keepdims=True)\n",
    "new_var = tf.math.reduce_variance(data, axis=[1, 2], keepdims=True)\n",
    "\n",
    "print('mean:', new_mean)\n",
    "print('variance:', new_var)"
   ]
  },
  {
   "cell_type": "code",
   "execution_count": 9,
   "metadata": {},
   "outputs": [
    {
     "output_type": "stream",
     "name": "stdout",
     "text": [
      "data: tf.Tensor(\n[[[0.7375338  0.22997093]\n  [0.5130764  0.20664358]\n  [0.9655051  0.49819064]]\n\n [[0.85198474 0.91651165]\n  [0.6761215  0.689976  ]\n  [0.7915044  0.7800131 ]]], shape=(2, 3, 2), dtype=float32)\nmean: tf.Tensor(\n[[[0.52515346]]\n\n [[0.7843518 ]]], shape=(2, 1, 1), dtype=float32)\ndata-mean: tf.Tensor(\n[[[ 0.21238035 -0.29518253]\n  [-0.01207703 -0.31850988]\n  [ 0.44035167 -0.02696282]]\n\n [[ 0.06763291  0.13215983]\n  [-0.10823035 -0.09437585]\n  [ 0.00715256 -0.00433874]]], shape=(2, 3, 2), dtype=float32)\n"
     ]
    }
   ],
   "source": [
    "print('data:', data)\n",
    "print('mean:', new_mean)\n",
    "print('data-mean:', data-new_mean) # `batch-wise` calculation"
   ]
  }
 ]
}